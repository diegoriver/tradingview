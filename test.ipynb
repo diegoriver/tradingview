{
 "cells": [
  {
   "cell_type": "code",
   "execution_count": 1,
   "metadata": {},
   "outputs": [
    {
     "name": "stdout",
     "output_type": "stream",
     "text": [
      "1m\n"
     ]
    }
   ],
   "source": [
    "# \"INTERVAL_1_MINUTE\": \"1m\",\n",
    "#     \"INTERVAL_5_MINUTES\": \"5m\",\n",
    "#     \"INTERVAL_15_MINUTES\": \"15m\",\n",
    "#     \"INTERVAL_30_MINUTES\": \"30m\",\n",
    "#     \"INTERVAL_1_HOUR\": \"1h\",\n",
    "#     \"INTERVAL_2_HOURS\": \"2h\",\n",
    "#     \"INTERVAL_4_HOURS\": \"4h\",\n",
    "#     \"INTERVAL_1_DAY\": \"1d\",\n",
    "#     \"INTERVAL_1_WEEK\": \"1W\",\n",
    "#     \"INTERVAL_1_MONTH\": \"1M\"\n",
    "\n",
    "intervalos = {\n",
    "    \"INTERVAL_1_MINUTE\": \"1m\",\n",
    "    \"INTERVAL_5_MINUTES\": \"5m\",\n",
    "    \"INTERVAL_15_MINUTES\": \"15m\",\n",
    "    \"INTERVAL_30_MINUTES\": \"30m\",\n",
    "    \"INTERVAL_1_HOUR\": \"1h\",\n",
    "    \"INTERVAL_2_HOURS\": \"2h\",\n",
    "    \"INTERVAL_4_HOURS\": \"4h\",\n",
    "}\n",
    "\n",
    "# Imprime el diccionario corregido\n",
    "print(intervalos[\"INTERVAL_1_MINUTE\"])\n",
    "\n",
    "\n"
   ]
  },
  {
   "cell_type": "code",
   "execution_count": 4,
   "metadata": {},
   "outputs": [
    {
     "data": {
      "text/plain": [
       "int"
      ]
     },
     "execution_count": 4,
     "metadata": {},
     "output_type": "execute_result"
    }
   ],
   "source": [
    "mult = int(\"15m\".replace(\"m\", \"\"))\n",
    "type(mult)"
   ]
  },
  {
   "cell_type": "code",
   "execution_count": 13,
   "metadata": {},
   "outputs": [],
   "source": [
    "from tradingview_ta import TA_Handler, get_multiple_analysis\n",
    "\n",
    "financial_asset = TA_Handler(\n",
    "    symbol=\"NVDA\",\n",
    "    screener=\"america\",\n",
    "    exchange=\"NASDAQ\",\n",
    "    interval=\"1m\"\n",
    ")\n",
    "\n",
    "financial_asset.get_analysis().summary\n",
    "financial_asset.get_analysis().indicators\n",
    "financial_asset.get_analysis().oscillators\n",
    "financial_asset.get_analysis().indicators\n",
    "\n",
    "results = get_multiple_analysis(screener=\"america\", interval=\"1m\", symbols=[\"nasdaq:tsla\", \"nyse:docn\", \"nasdaq:aapl\"])\n"
   ]
  },
  {
   "cell_type": "code",
   "execution_count": null,
   "metadata": {},
   "outputs": [],
   "source": [
    "import pprint\n",
    "\n",
    "print(financial_asset.get_analysis().summary)\n",
    "print(\"######################################################\")\n",
    "pprint.pprint(financial_asset.get_analysis().oscillators)\n",
    "print(\"######################################################\")\n",
    "pprint.pprint(financial_asset.get_analysis().moving_averages)\n",
    "print(\"######################################################\")\n",
    "pprint.pprint(financial_asset.get_analysis().indicators)\n"
   ]
  },
  {
   "cell_type": "markdown",
   "metadata": {},
   "source": [
    "## Retrieving multiple analysis"
   ]
  },
  {
   "cell_type": "code",
   "execution_count": null,
   "metadata": {},
   "outputs": [],
   "source": [
    "from tradingview_ta import *\n",
    "\n",
    "results = get_multiple_analysis(screener=\"america\", interval=Interval.INTERVAL_1_HOUR, symbols=[\"nasdaq:tsla\", \"nyse:docn\", \"nasdaq:aapl\"])\n",
    "# print(results)\n",
    "\n",
    "\n",
    "for stock, analysis in results.items():\n",
    "    print(f\"Stock: {stock}\")\n",
    "    print(financial_asset.get_analysis().summary)\n",
    "    print(financial_asset.get_analysis().oscillators)\n",
    "    print(financial_asset.get_analysis().moving_averages)\n",
    "\n",
    "    print(f\"open: {financial_asset.get_analysis().indicators['open']} - \\\n",
    "          low: {financial_asset.get_analysis().indicators['low']} - \\\n",
    "            high: {financial_asset.get_analysis().indicators['high']} - \\\n",
    "                close: {financial_asset.get_analysis().indicators['close']}\")\n",
    "    print(\"######################################################\")"
   ]
  },
  {
   "cell_type": "markdown",
   "metadata": {},
   "source": [
    "###################################################################################"
   ]
  },
  {
   "cell_type": "markdown",
   "metadata": {},
   "source": [
    "## generacion de data histórica"
   ]
  },
  {
   "cell_type": "code",
   "execution_count": 12,
   "metadata": {},
   "outputs": [],
   "source": [
    "from generate_history_data_microservice import create_data\n",
    "num_cycles = 5\n",
    "timer = 1 #tiempo en segundos de espera para tomar datos\n",
    "\n",
    "create_data(num_cycles, timer)\n",
    "\n"
   ]
  },
  {
   "cell_type": "markdown",
   "metadata": {},
   "source": [
    "## generacion de analisis"
   ]
  },
  {
   "cell_type": "code",
   "execution_count": 5,
   "metadata": {},
   "outputs": [
    {
     "name": "stderr",
     "output_type": "stream",
     "text": [
      "2024-04-12 14:51:13.227193: I tensorflow/core/platform/cpu_feature_guard.cc:193] This TensorFlow binary is optimized with oneAPI Deep Neural Network Library (oneDNN) to use the following CPU instructions in performance-critical operations:  AVX2 FMA\n",
      "To enable them in other operations, rebuild TensorFlow with the appropriate compiler flags.\n",
      "2024-04-12 14:51:21.520733: I tensorflow/core/platform/cpu_feature_guard.cc:193] This TensorFlow binary is optimized with oneAPI Deep Neural Network Library (oneDNN) to use the following CPU instructions in performance-critical operations:  AVX2 FMA\n",
      "To enable them in other operations, rebuild TensorFlow with the appropriate compiler flags.\n"
     ]
    },
    {
     "name": "stdout",
     "output_type": "stream",
     "text": [
      "1/1 [==============================] - 0s 196ms/step\n",
      "1/1 [==============================] - 0s 22ms/step\n",
      "1/1 [==============================] - 0s 21ms/step\n",
      "1/1 [==============================] - 0s 21ms/step\n",
      "1/1 [==============================] - 0s 61ms/step\n",
      "1/1 [==============================] - 0s 23ms/step\n",
      "1/1 [==============================] - 0s 21ms/step\n",
      "1/1 [==============================] - 0s 25ms/step\n",
      "1/1 [==============================] - 0s 26ms/step\n",
      "1/1 [==============================] - 0s 27ms/step\n",
      "1/1 [==============================] - 0s 26ms/step\n",
      "1/1 [==============================] - 0s 25ms/step\n",
      "#### results_BABA.json ####\n",
      "sumary           recomendation: SELL\n",
      "moving_averages  recomendation: STRONG_SELL\n",
      "oscillators      recomendation: BUY\n",
      "indicators       recomendation: ['sell']\n",
      " \n",
      "#### results_SPY.json ####\n",
      "sumary           recomendation: SELL\n",
      "moving_averages  recomendation: STRONG_SELL\n",
      "oscillators      recomendation: BUY\n",
      "indicators       recomendation: ['sell']\n",
      " \n",
      "#### results_VOO.json ####\n",
      "sumary           recomendation: SELL\n",
      "moving_averages  recomendation: STRONG_SELL\n",
      "oscillators      recomendation: BUY\n",
      "indicators       recomendation: ['sell']\n",
      " \n",
      "#### results_DOCN.json ####\n",
      "sumary           recomendation: SELL\n",
      "moving_averages  recomendation: STRONG_SELL\n",
      "oscillators      recomendation: NEUTRAL\n",
      "indicators       recomendation: ['sell']\n",
      " \n",
      "#### results_GOOG.json ####\n",
      "sumary           recomendation: SELL\n",
      "moving_averages  recomendation: STRONG_SELL\n",
      "oscillators      recomendation: NEUTRAL\n",
      "indicators       recomendation: ['sell']\n",
      " \n",
      "#### results_NVDA.json ####\n",
      "sumary           recomendation: SELL\n",
      "moving_averages  recomendation: STRONG_SELL\n",
      "oscillators      recomendation: NEUTRAL\n",
      "indicators       recomendation: ['sell']\n",
      " \n",
      "#### results_META.json ####\n",
      "sumary           recomendation: SELL\n",
      "moving_averages  recomendation: STRONG_SELL\n",
      "oscillators      recomendation: BUY\n",
      "indicators       recomendation: ['sell']\n",
      " \n",
      "#### results_GOLD.json ####\n",
      "sumary           recomendation: STRONG_SELL\n",
      "moving_averages  recomendation: STRONG_SELL\n",
      "oscillators      recomendation: NEUTRAL\n",
      "indicators       recomendation: ['sell']\n",
      " \n",
      "#### results_MSFT.json ####\n",
      "sumary           recomendation: SELL\n",
      "moving_averages  recomendation: STRONG_SELL\n",
      "oscillators      recomendation: NEUTRAL\n",
      "indicators       recomendation: ['sell']\n",
      " \n",
      "#### results_TSLA.json ####\n",
      "sumary           recomendation: SELL\n",
      "moving_averages  recomendation: STRONG_SELL\n",
      "oscillators      recomendation: NEUTRAL\n",
      "indicators       recomendation: ['sell']\n",
      " \n",
      "#### results_AAPL.json ####\n",
      "sumary           recomendation: BUY\n",
      "moving_averages  recomendation: BUY\n",
      "oscillators      recomendation: BUY\n",
      "indicators       recomendation: ['sell']\n",
      " \n",
      "#### results_AMZN.json ####\n",
      "sumary           recomendation: SELL\n",
      "moving_averages  recomendation: STRONG_SELL\n",
      "oscillators      recomendation: BUY\n",
      "indicators       recomendation: ['sell']\n",
      " \n"
     ]
    }
   ],
   "source": [
    "from predictions import generar_analisis\n",
    "nombres_acciones,sumary,moving_averages,oscillators,indicators = generar_analisis()\n",
    "\n",
    "for i in range(0,12):\n",
    "    print(f\"#### {nombres_acciones[i]} ####\")\n",
    "    print(f\"sumary           recomendation: {sumary[i]}\")\n",
    "    print(f\"moving_averages  recomendation: {moving_averages[i]}\")\n",
    "    print(f\"oscillators      recomendation: {oscillators[i]}\")\n",
    "    print(f\"indicators       recomendation: {indicators[i]}\")\n",
    "    print(f\" \")\n"
   ]
  },
  {
   "cell_type": "markdown",
   "metadata": {},
   "source": [
    "# bot trading"
   ]
  },
  {
   "cell_type": "code",
   "execution_count": 1,
   "metadata": {},
   "outputs": [
    {
     "name": "stderr",
     "output_type": "stream",
     "text": [
      "2024-04-15 14:44:07.162709: I tensorflow/core/platform/cpu_feature_guard.cc:193] This TensorFlow binary is optimized with oneAPI Deep Neural Network Library (oneDNN) to use the following CPU instructions in performance-critical operations:  AVX2 FMA\n",
      "To enable them in other operations, rebuild TensorFlow with the appropriate compiler flags.\n",
      "2024-04-15 14:44:13.849765: I tensorflow/core/platform/cpu_feature_guard.cc:193] This TensorFlow binary is optimized with oneAPI Deep Neural Network Library (oneDNN) to use the following CPU instructions in performance-critical operations:  AVX2 FMA\n",
      "To enable them in other operations, rebuild TensorFlow with the appropriate compiler flags.\n"
     ]
    }
   ],
   "source": [
    "import pandas as pd\n",
    "from generate_history_data_microservice import create_data\n",
    "from predictions import generar_analisis\n",
    "import os\n",
    "\n",
    "from tensorflow.keras.models import load_model\n",
    "\n",
    "model_final = load_model('modelos_redes/model_1-A_binance_1m_5x1_0.5.h5')\n",
    "\n",
    "\n",
    "# intervalos = {\n",
    "#     \"INTERVAL_1_MINUTE\": \"1m\",\n",
    "#     \"INTERVAL_5_MINUTES\": \"5m\",\n",
    "#     \"INTERVAL_15_MINUTES\": \"15m\",\n",
    "#     \"INTERVAL_30_MINUTES\": \"30m\",\n",
    "#     \"INTERVAL_1_HOUR\": \"1h\",\n",
    "#     \"INTERVAL_2_HOURS\": \"2h\",\n",
    "#     \"INTERVAL_4_HOURS\": \"4h\",\n",
    "# }\n",
    "\n",
    "\n",
    "num_predictions = 4\n",
    "interval_time = \"1m\"\n",
    "timer = 1 #tiempo en segundos de espera para solicitar informacion\n",
    "\n",
    "### se crea la data inicial\n",
    "num_data = 5 # numero de velas para crear historial\n",
    "# create_data(num_data, timer, interval_time)\n",
    "\n",
    "\n"
   ]
  },
  {
   "cell_type": "code",
   "execution_count": 3,
   "metadata": {},
   "outputs": [],
   "source": [
    "\n",
    "### evaluation\n",
    "for i in range(0,num_predictions):\n",
    "    \n",
    "    num_data = 1  # se crea nuevo dato para analizar \n",
    "    create_data(num_data, timer, interval_time)\n",
    "\n",
    "    times,nombres_acciones,sumary,moving_averages,oscillators,indicators = generar_analisis(model_final,interval_time)\n",
    "\n",
    "    data = {\n",
    "        'time': times,\n",
    "        'acciones': nombres_acciones,\n",
    "        'sumary': sumary,\n",
    "        'moving_averages': moving_averages,\n",
    "        'oscillators': oscillators,\n",
    "        'indicators': indicators\n",
    "    }\n",
    "\n",
    "    df = pd.DataFrame(data)\n",
    "    \n",
    "\n",
    "    folder = 'results_history'\n",
    "    file = f'results_{interval_time}.xlsx'\n",
    "    path = os.path.join(folder, file)\n",
    "\n",
    "    if os.path.exists(path):\n",
    "        df_existing = pd.read_excel(path)\n",
    "        df = pd.concat([df_existing, df], ignore_index=True)\n",
    "    df.to_excel(path, index=False)\n",
    "\n"
   ]
  }
 ],
 "metadata": {
  "kernelspec": {
   "display_name": "venv_tradingview",
   "language": "python",
   "name": "python3"
  },
  "language_info": {
   "codemirror_mode": {
    "name": "ipython",
    "version": 3
   },
   "file_extension": ".py",
   "mimetype": "text/x-python",
   "name": "python",
   "nbconvert_exporter": "python",
   "pygments_lexer": "ipython3",
   "version": "3.10.2"
  }
 },
 "nbformat": 4,
 "nbformat_minor": 2
}
